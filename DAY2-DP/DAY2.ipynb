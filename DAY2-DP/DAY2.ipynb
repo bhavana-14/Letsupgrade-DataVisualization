{
  "nbformat": 4,
  "nbformat_minor": 0,
  "metadata": {
    "colab": {
      "name": "DAY2.ipynb",
      "provenance": [],
      "collapsed_sections": []
    },
    "kernelspec": {
      "name": "python3",
      "display_name": "Python 3"
    },
    "language_info": {
      "name": "python"
    }
  },
  "cells": [
    {
      "cell_type": "code",
      "metadata": {
        "id": "mr2_Y1xAPcoX"
      },
      "source": [
        "import matplotlib.pyplot as plt\n",
        "import numpy as np\n",
        "import pandas as pd\n",
        "%matplotlib inline\n",
        "import seaborn as sns\n",
        "from numpy.random import randn, randint, uniform, sample"
      ],
      "execution_count": 1,
      "outputs": []
    },
    {
      "cell_type": "code",
      "metadata": {
        "colab": {
          "base_uri": "https://localhost:8080/",
          "height": 359
        },
        "id": "f1ZCsGa_Po96",
        "outputId": "34f0d513-b5ba-4444-8c11-1963396f3595"
      },
      "source": [
        "df = pd.DataFrame(randn(10,4),columns=['a','b','c','d'])\n",
        "df"
      ],
      "execution_count": 2,
      "outputs": [
        {
          "output_type": "execute_result",
          "data": {
            "text/html": [
              "<div>\n",
              "<style scoped>\n",
              "    .dataframe tbody tr th:only-of-type {\n",
              "        vertical-align: middle;\n",
              "    }\n",
              "\n",
              "    .dataframe tbody tr th {\n",
              "        vertical-align: top;\n",
              "    }\n",
              "\n",
              "    .dataframe thead th {\n",
              "        text-align: right;\n",
              "    }\n",
              "</style>\n",
              "<table border=\"1\" class=\"dataframe\">\n",
              "  <thead>\n",
              "    <tr style=\"text-align: right;\">\n",
              "      <th></th>\n",
              "      <th>a</th>\n",
              "      <th>b</th>\n",
              "      <th>c</th>\n",
              "      <th>d</th>\n",
              "    </tr>\n",
              "  </thead>\n",
              "  <tbody>\n",
              "    <tr>\n",
              "      <th>0</th>\n",
              "      <td>1.474355</td>\n",
              "      <td>1.444184</td>\n",
              "      <td>-0.167455</td>\n",
              "      <td>-0.351321</td>\n",
              "    </tr>\n",
              "    <tr>\n",
              "      <th>1</th>\n",
              "      <td>-0.032966</td>\n",
              "      <td>0.060062</td>\n",
              "      <td>1.118699</td>\n",
              "      <td>0.766937</td>\n",
              "    </tr>\n",
              "    <tr>\n",
              "      <th>2</th>\n",
              "      <td>0.013304</td>\n",
              "      <td>-1.267701</td>\n",
              "      <td>0.968790</td>\n",
              "      <td>-0.132023</td>\n",
              "    </tr>\n",
              "    <tr>\n",
              "      <th>3</th>\n",
              "      <td>-0.389300</td>\n",
              "      <td>0.926067</td>\n",
              "      <td>-0.101898</td>\n",
              "      <td>-1.049182</td>\n",
              "    </tr>\n",
              "    <tr>\n",
              "      <th>4</th>\n",
              "      <td>-0.387229</td>\n",
              "      <td>-0.403705</td>\n",
              "      <td>0.661540</td>\n",
              "      <td>-0.803357</td>\n",
              "    </tr>\n",
              "    <tr>\n",
              "      <th>5</th>\n",
              "      <td>-2.261320</td>\n",
              "      <td>-0.081265</td>\n",
              "      <td>-0.064246</td>\n",
              "      <td>-1.330870</td>\n",
              "    </tr>\n",
              "    <tr>\n",
              "      <th>6</th>\n",
              "      <td>-0.901326</td>\n",
              "      <td>-2.191435</td>\n",
              "      <td>0.676194</td>\n",
              "      <td>-0.551725</td>\n",
              "    </tr>\n",
              "    <tr>\n",
              "      <th>7</th>\n",
              "      <td>0.682728</td>\n",
              "      <td>1.544389</td>\n",
              "      <td>0.603340</td>\n",
              "      <td>-1.064875</td>\n",
              "    </tr>\n",
              "    <tr>\n",
              "      <th>8</th>\n",
              "      <td>-0.540548</td>\n",
              "      <td>-1.608372</td>\n",
              "      <td>1.138869</td>\n",
              "      <td>0.312355</td>\n",
              "    </tr>\n",
              "    <tr>\n",
              "      <th>9</th>\n",
              "      <td>-0.042444</td>\n",
              "      <td>0.662689</td>\n",
              "      <td>-1.037703</td>\n",
              "      <td>-0.612454</td>\n",
              "    </tr>\n",
              "  </tbody>\n",
              "</table>\n",
              "</div>"
            ],
            "text/plain": [
              "          a         b         c         d\n",
              "0  1.474355  1.444184 -0.167455 -0.351321\n",
              "1 -0.032966  0.060062  1.118699  0.766937\n",
              "2  0.013304 -1.267701  0.968790 -0.132023\n",
              "3 -0.389300  0.926067 -0.101898 -1.049182\n",
              "4 -0.387229 -0.403705  0.661540 -0.803357\n",
              "5 -2.261320 -0.081265 -0.064246 -1.330870\n",
              "6 -0.901326 -2.191435  0.676194 -0.551725\n",
              "7  0.682728  1.544389  0.603340 -1.064875\n",
              "8 -0.540548 -1.608372  1.138869  0.312355\n",
              "9 -0.042444  0.662689 -1.037703 -0.612454"
            ]
          },
          "metadata": {
            "tags": []
          },
          "execution_count": 2
        }
      ]
    },
    {
      "cell_type": "code",
      "metadata": {
        "colab": {
          "base_uri": "https://localhost:8080/",
          "height": 621
        },
        "id": "L8b7lwOEPtA-",
        "outputId": "d2559777-5df9-43e2-c978-026aa97b2d82"
      },
      "source": [
        "df.plot(kind='bar',title='Bar Chart',figsize=(10,10),grid=True,legend = True)\n"
      ],
      "execution_count": 3,
      "outputs": [
        {
          "output_type": "execute_result",
          "data": {
            "text/plain": [
              "<matplotlib.axes._subplots.AxesSubplot at 0x7fcda410c510>"
            ]
          },
          "metadata": {
            "tags": []
          },
          "execution_count": 3
        },
        {
          "output_type": "display_data",
          "data": {
            "image/png": "[encoded data removed]",
            "text/plain": [
              "<Figure size 720x720 with 1 Axes>"
            ]
          },
          "metadata": {
            "tags": [],
            "needs_background": "light"
          }
        }
      ]
    }
  ]
}